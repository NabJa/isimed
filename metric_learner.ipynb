{
 "cells": [
  {
   "cell_type": "code",
   "execution_count": 1,
   "id": "ba3fb03f-de74-4010-8ec6-305bb92a021f",
   "metadata": {},
   "outputs": [],
   "source": [
    "%load_ext autoreload\n",
    "%autoreload 2"
   ]
  },
  {
   "cell_type": "code",
   "execution_count": 4,
   "id": "b101a81f-9aed-4983-a8a1-2a421bc92bd1",
   "metadata": {},
   "outputs": [],
   "source": [
    "import math\n",
    "from itertools import combinations\n",
    "from pathlib import Path\n",
    "from typing import List, Tuple\n",
    "\n",
    "import airlab as al\n",
    "import cv2\n",
    "import matplotlib.pyplot as plt\n",
    "import nibabel as nib\n",
    "import numpy as np\n",
    "import torch\n",
    "from einops import rearrange\n",
    "from ipywidgets import fixed, interact\n",
    "from monai import transforms as tfm\n",
    "from monai.data import DataLoader, Dataset\n",
    "from monai.data.meta_tensor import MetaTensor\n",
    "from monai.networks.nets import DenseNet\n",
    "from torch import nn\n",
    "from tqdm import tqdm\n",
    "from wbpetct.data import FDG_PET_CT_Dataset, get_train_valid_loaders\n",
    "import wandb\n",
    "from meddist.data import get_dataloaders, get_transformations\n",
    "from meddist.dist import (\n",
    "    euclidean_dist,\n",
    "    get_bbox_centers,\n",
    "    get_cropped_bboxes,\n",
    "    pairwise_comparisons,\n",
    ")"
   ]
  },
  {
   "cell_type": "code",
   "execution_count": 24,
   "id": "db634c16-e3c9-461a-abe1-cbefa56dd0e5",
   "metadata": {},
   "outputs": [],
   "source": [
    "class NN(torch.nn.Module):\n",
    "    def __init__(self):\n",
    "        super(NN, self).__init__()\n",
    "        \n",
    "        self.linear1 = torch.nn.Linear(10, 5)\n",
    "        self.linear2 = torch.nn.Linear(5, 1)\n",
    "        \n",
    "    \n",
    "    def forward(inp):\n",
    "        return self.linear2(self.linear1(inp))"
   ]
  },
  {
   "cell_type": "code",
   "execution_count": 31,
   "id": "cc8d0924-a50d-4f22-835b-1ecbcde21149",
   "metadata": {},
   "outputs": [],
   "source": [
    "nn = NN()\n",
    "adam = torch.optim.Adam(nn.parameters())"
   ]
  },
  {
   "cell_type": "code",
   "execution_count": 33,
   "id": "7e9504cd-f812-48f2-93df-fcd0802ff72d",
   "metadata": {},
   "outputs": [
    {
     "data": {
      "text/plain": [
       "['__class__',\n",
       " '__delattr__',\n",
       " '__dict__',\n",
       " '__dir__',\n",
       " '__doc__',\n",
       " '__eq__',\n",
       " '__format__',\n",
       " '__ge__',\n",
       " '__getattribute__',\n",
       " '__getstate__',\n",
       " '__gt__',\n",
       " '__hash__',\n",
       " '__init__',\n",
       " '__init_subclass__',\n",
       " '__le__',\n",
       " '__lt__',\n",
       " '__module__',\n",
       " '__ne__',\n",
       " '__new__',\n",
       " '__reduce__',\n",
       " '__reduce_ex__',\n",
       " '__repr__',\n",
       " '__setattr__',\n",
       " '__setstate__',\n",
       " '__sizeof__',\n",
       " '__str__',\n",
       " '__subclasshook__',\n",
       " '__weakref__',\n",
       " '_hook_for_profile',\n",
       " '_zero_grad_profile_name',\n",
       " 'add_param_group',\n",
       " 'defaults',\n",
       " 'load_state_dict',\n",
       " 'param_groups',\n",
       " 'state',\n",
       " 'state_dict',\n",
       " 'step',\n",
       " 'zero_grad']"
      ]
     },
     "execution_count": 33,
     "metadata": {},
     "output_type": "execute_result"
    }
   ],
   "source": [
    "dir(adam)"
   ]
  },
  {
   "cell_type": "code",
   "execution_count": null,
   "id": "51b9af4c-e652-4358-b905-d0e4b225cf4f",
   "metadata": {},
   "outputs": [],
   "source": []
  },
  {
   "cell_type": "code",
   "execution_count": 3,
   "id": "5ff2799b-3e88-49a4-8645-3ef26d8bfedc",
   "metadata": {},
   "outputs": [],
   "source": [
    "np.set_printoptions(precision=2, suppress=True)\n",
    "torch.set_printoptions(precision=2, sci_mode=False)"
   ]
  },
  {
   "cell_type": "code",
   "execution_count": 4,
   "id": "d04dd6de-704e-4234-a48b-724314f57cdb",
   "metadata": {},
   "outputs": [],
   "source": [
    "def plot_means(volume, batch=0, show=False):\n",
    "\n",
    "    if len(volume.shape) == 4:\n",
    "        volume = volume[batch]\n",
    "\n",
    "    fig, axs = plt.subplots(1, 3)\n",
    "\n",
    "    for i in range(3):\n",
    "        axs[i].imshow(np.mean(volume, axis=i), cmap=\"gray\")\n",
    "        axs[i].set_axis_off()\n",
    "\n",
    "    if show:\n",
    "        plt.show()\n",
    "        return\n",
    "\n",
    "    return fig, axs"
   ]
  },
  {
   "cell_type": "code",
   "execution_count": 5,
   "id": "1bccbb70-8bb6-428f-bbe7-c3da23bb2ab4",
   "metadata": {},
   "outputs": [],
   "source": [
    "raw_data_path = \"/sc-scratch/sc-scratch-gbm-radiomics/tcia/manifest-1654187277763/nifti/FDG-PET-CT-Lesions\"\n",
    "\n",
    "data_path = Path(\n",
    "    \"/sc-scratch/sc-scratch-gbm-radiomics/tcia/manifest-1654187277763/nifti/FDG-PET-CT-Lesions-data2\"\n",
    ")\n",
    "registered_dir = data_path / \"registered\"\n",
    "processed_dir = data_path / \"processed\""
   ]
  },
  {
   "cell_type": "code",
   "execution_count": 9,
   "id": "44d6174d-d1f1-4a9c-99a2-d4c3098c4270",
   "metadata": {},
   "outputs": [],
   "source": [
    "train_loader, valid_loader = get_dataloaders(registered_dir, 5, add_intensity_augmentation=True)"
   ]
  },
  {
   "cell_type": "code",
   "execution_count": 10,
   "id": "646b429f-0b91-4a92-9532-5af14c0f0309",
   "metadata": {},
   "outputs": [],
   "source": [
    "batch = next(iter(train_loader))\n",
    "# model = DenseNet(spatial_dims=3, in_channels=1, out_channels=512).to(\"cuda\")"
   ]
  },
  {
   "cell_type": "code",
   "execution_count": 11,
   "id": "89fa3930-eaf3-4ec5-911e-c5bb5efb216d",
   "metadata": {},
   "outputs": [
    {
     "name": "stderr",
     "output_type": "stream",
     "text": [
      "  3%|▎         | 20/585 [00:48<22:58,  2.44s/it]\n"
     ]
    }
   ],
   "source": [
    "for i, batch in enumerate(tqdm(train_loader)):\n",
    "    if i == 20:\n",
    "        break"
   ]
  },
  {
   "cell_type": "code",
   "execution_count": null,
   "id": "4ae0395d-b103-446f-a7e4-e5ba66664171",
   "metadata": {},
   "outputs": [],
   "source": []
  },
  {
   "cell_type": "code",
   "execution_count": null,
   "id": "18fd3eec-508f-4d17-a8ee-60535324d7f3",
   "metadata": {},
   "outputs": [],
   "source": []
  },
  {
   "cell_type": "code",
   "execution_count": null,
   "id": "1b2826e5-f60e-4724-99c0-b2bd7e76b815",
   "metadata": {},
   "outputs": [],
   "source": []
  },
  {
   "cell_type": "code",
   "execution_count": null,
   "id": "c084157f-f8a6-47c7-8db5-361ce4c76c8f",
   "metadata": {},
   "outputs": [],
   "source": []
  },
  {
   "cell_type": "code",
   "execution_count": null,
   "id": "8637fb0c-4a95-4faa-ba73-af067499ac0f",
   "metadata": {},
   "outputs": [],
   "source": []
  },
  {
   "cell_type": "code",
   "execution_count": null,
   "id": "02e6bff0-5245-4301-a242-982152a35efb",
   "metadata": {},
   "outputs": [],
   "source": [
    "import math\n",
    "\n",
    "def max_crop_distance(image_size, crop_size):\n",
    "    height, width = image_size\n",
    "    crop_height, crop_width = crop_size, crop_size\n",
    "    diagonal_distance = math.sqrt((height - crop_height)**2 + (width - crop_width)**2)\n",
    "    return diagonal_distance / 2"
   ]
  },
  {
   "cell_type": "code",
   "execution_count": null,
   "id": "3fdf610e-c615-45ca-89fc-c7528426e0ca",
   "metadata": {},
   "outputs": [],
   "source": []
  },
  {
   "cell_type": "code",
   "execution_count": null,
   "id": "454d3c5a-33b2-4c64-9463-2294a2487abf",
   "metadata": {},
   "outputs": [],
   "source": [
    "import math\n",
    "\n",
    "def max_crop_distance_3d(image_volume, crop_volume):\n",
    "    depth, height, width = image_volume\n",
    "    crop_depth, crop_height, crop_width = crop_volume, crop_volume, crop_volume\n",
    "    diagonal_distance = math.sqrt((depth - crop_depth)**2 + (height - crop_height)**2 + (width - crop_width)**2)\n",
    "    return diagonal_distance / 2\n"
   ]
  },
  {
   "cell_type": "code",
   "execution_count": null,
   "id": "244027d0-fa97-4222-808e-b3ebaf26f403",
   "metadata": {},
   "outputs": [],
   "source": [
    "max_crop_distance_3d((400, 400, 319), 128)"
   ]
  },
  {
   "cell_type": "code",
   "execution_count": 16,
   "id": "06ecc30f-b51e-4184-981d-a287b8a9f55d",
   "metadata": {},
   "outputs": [
    {
     "name": "stdout",
     "output_type": "stream",
     "text": [
      "0.0009000000000000001\n",
      "0.0008100000000000001\n",
      "0.000729\n",
      "0.0006561000000000001\n",
      "0.00059049\n",
      "0.000531441\n",
      "0.0004782969\n",
      "0.00043046721\n",
      "0.000387420489\n",
      "0.0003486784401\n",
      "0.00031381059609000004\n",
      "0.00028242953648100003\n",
      "0.00025418658283290005\n",
      "0.00022876792454961005\n",
      "0.00020589113209464906\n",
      "0.00018530201888518417\n",
      "0.00016677181699666576\n",
      "0.0001500946352969992\n",
      "0.0001350851717672993\n",
      "0.00012157665459056936\n",
      "0.00010941898913151243\n",
      "9.847709021836118e-05\n",
      "8.862938119652506e-05\n",
      "7.976644307687256e-05\n",
      "7.17897987691853e-05\n",
      "6.461081889226677e-05\n",
      "5.81497370030401e-05\n",
      "5.233476330273609e-05\n",
      "4.7101286972462485e-05\n",
      "4.239115827521624e-05\n",
      "3.8152042447694614e-05\n",
      "3.433683820292515e-05\n",
      "3.090315438263264e-05\n",
      "2.7812838944369376e-05\n",
      "2.503155504993244e-05\n",
      "2.2528399544939195e-05\n",
      "2.0275559590445276e-05\n",
      "1.8248003631400748e-05\n",
      "1.6423203268260675e-05\n",
      "1.4780882941434607e-05\n",
      "1.3302794647291146e-05\n",
      "1.1972515182562031e-05\n",
      "1.0775263664305828e-05\n",
      "9.697737297875246e-06\n",
      "8.727963568087722e-06\n",
      "7.85516721127895e-06\n",
      "7.069650490151056e-06\n",
      "6.362685441135951e-06\n",
      "5.7264168970223554e-06\n",
      "5.15377520732012e-06\n"
     ]
    }
   ],
   "source": [
    "lr = 0.001\n",
    "for i in range(50):\n",
    "    lr *= 0.9\n",
    "    print(lr)\n",
    "    "
   ]
  },
  {
   "cell_type": "code",
   "execution_count": null,
   "id": "1fed6c1e-c77d-4e33-86cd-a2a490fc9bc3",
   "metadata": {},
   "outputs": [],
   "source": [
    "def train_distance_model(model, optimizer, loss_fn, dataloader, num_epochs):\n",
    "\n",
    "    for epoch in range(num_epochs):\n",
    "        for iteration, batch in enumerate(dataloader):\n",
    "\n",
    "            bboxes = get_cropped_bboxes(batch[\"image\"], \"RandSpatialCropSamples\")\n",
    "            centers = get_bbox_centers(bboxes)\n",
    "\n",
    "            gt_dist_mat = torch.cdist(\n",
    "                torch.tensor(centers), torch.tensor(centers), p=2.0\n",
    "            ).float()\n",
    "\n",
    "            # Forward pass\n",
    "            image = batch[\"image\"].to(\"cuda\")\n",
    "            embeddings = model(image).cpu()\n",
    "\n",
    "            pred_dist_mat = torch.cdist(embeddings, embeddings, p=2)\n",
    "\n",
    "            loss = loss_fn(pred_dist_mat, gt_dist_mat)\n",
    "\n",
    "            # Backward pass and optimization\n",
    "            optimizer.zero_grad()\n",
    "            loss.backward()\n",
    "            optimizer.step()\n",
    "\n",
    "            # Log\n",
    "            print(f\"Epoch/Iteration {epoch:03}/{iteration:03} Loss, {loss.item():.3f}\")"
   ]
  },
  {
   "cell_type": "code",
   "execution_count": null,
   "id": "e7b2d9af-9a57-4590-af48-dd4f3e76f69f",
   "metadata": {},
   "outputs": [],
   "source": [
    "# Define the model and optimizer\n",
    "model = DenseNet(spatial_dims=3, in_channels=1, out_channels=512).to(\"cuda\")\n",
    "optimizer = torch.optim.Adam(model.parameters())\n",
    "\n",
    "# Define the loss function\n",
    "loss_fn = nn.MSELoss()\n",
    "\n",
    "# Define the DataLoader\n",
    "registered_dir = data_path / \"registered\"\n",
    "train_loader, valid_loader = get_dataloaders(registered_dir)"
   ]
  },
  {
   "cell_type": "code",
   "execution_count": null,
   "id": "9c571546-9488-4d84-b82e-77ef9102a1f9",
   "metadata": {},
   "outputs": [],
   "source": [
    "# Train the model\n",
    "\n",
    "losses = []\n",
    "\n",
    "train_distance_model(model, optimizer, loss_fn, train_loader, num_epochs=10)"
   ]
  },
  {
   "cell_type": "code",
   "execution_count": null,
   "id": "579504d6-0ac8-49d3-9c3d-a9fecbf98128",
   "metadata": {},
   "outputs": [],
   "source": []
  }
 ],
 "metadata": {
  "kernelspec": {
   "display_name": "Python [conda env:brain]",
   "language": "python",
   "name": "conda-env-brain-py"
  },
  "language_info": {
   "codemirror_mode": {
    "name": "ipython",
    "version": 3
   },
   "file_extension": ".py",
   "mimetype": "text/x-python",
   "name": "python",
   "nbconvert_exporter": "python",
   "pygments_lexer": "ipython3",
   "version": "3.8.12"
  }
 },
 "nbformat": 4,
 "nbformat_minor": 5
}
