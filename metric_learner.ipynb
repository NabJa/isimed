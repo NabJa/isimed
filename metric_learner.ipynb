{
 "cells": [
  {
   "cell_type": "code",
   "execution_count": 1,
   "id": "ba3fb03f-de74-4010-8ec6-305bb92a021f",
   "metadata": {},
   "outputs": [],
   "source": [
    "%load_ext autoreload\n",
    "%autoreload 2"
   ]
  },
  {
   "cell_type": "code",
   "execution_count": 40,
   "id": "b101a81f-9aed-4983-a8a1-2a421bc92bd1",
   "metadata": {},
   "outputs": [],
   "source": [
    "import math\n",
    "from itertools import combinations\n",
    "from pathlib import Path\n",
    "from typing import List, Tuple\n",
    "\n",
    "import airlab as al\n",
    "import cv2\n",
    "import matplotlib.pyplot as plt\n",
    "import nibabel as nib\n",
    "import numpy as np\n",
    "import torch\n",
    "from einops import rearrange\n",
    "from ipywidgets import fixed, interact\n",
    "from monai import transforms as tfm\n",
    "from monai.data import DataLoader, Dataset\n",
    "from monai.data.meta_tensor import MetaTensor\n",
    "from monai.networks.nets import DenseNet\n",
    "from torch import nn\n",
    "from tqdm import tqdm\n",
    "from wbpetct.data import FDG_PET_CT_Dataset, get_train_valid_loaders\n",
    "\n",
    "from meddist.data import get_dataloaders\n",
    "from meddist.dist import (\n",
    "    euclidean_dist,\n",
    "    get_bbox_centers,\n",
    "    get_cropped_bboxes,\n",
    "    pairwise_comparisons,\n",
    ")\n",
    "from meddist.model import ContrastiveDistanceDenseNet"
   ]
  },
  {
   "cell_type": "code",
   "execution_count": 3,
   "id": "5ff2799b-3e88-49a4-8645-3ef26d8bfedc",
   "metadata": {},
   "outputs": [],
   "source": [
    "np.set_printoptions(precision=2, suppress=True)\n",
    "torch.set_printoptions(precision=2, sci_mode=False)"
   ]
  },
  {
   "cell_type": "code",
   "execution_count": 4,
   "id": "d04dd6de-704e-4234-a48b-724314f57cdb",
   "metadata": {},
   "outputs": [],
   "source": [
    "def plot_means(volume, batch=0, show=False):\n",
    "\n",
    "    if len(volume.shape) == 4:\n",
    "        volume = volume[batch]\n",
    "\n",
    "    fig, axs = plt.subplots(1, 3)\n",
    "\n",
    "    for i in range(3):\n",
    "        axs[i].imshow(np.mean(volume, axis=i), cmap=\"gray\")\n",
    "        axs[i].set_axis_off()\n",
    "\n",
    "    if show:\n",
    "        plt.show()\n",
    "        return\n",
    "\n",
    "    return fig, axs"
   ]
  },
  {
   "cell_type": "code",
   "execution_count": 5,
   "id": "1bccbb70-8bb6-428f-bbe7-c3da23bb2ab4",
   "metadata": {},
   "outputs": [],
   "source": [
    "raw_data_path = \"/sc-scratch/sc-scratch-gbm-radiomics/tcia/manifest-1654187277763/nifti/FDG-PET-CT-Lesions\"\n",
    "\n",
    "data_path = Path(\n",
    "    \"/sc-scratch/sc-scratch-gbm-radiomics/tcia/manifest-1654187277763/nifti/FDG-PET-CT-Lesions-data2\"\n",
    ")\n",
    "registered_dir = data_path / \"registered\"\n",
    "processed_dir = data_path / \"processed\""
   ]
  },
  {
   "cell_type": "code",
   "execution_count": 6,
   "id": "44d6174d-d1f1-4a9c-99a2-d4c3098c4270",
   "metadata": {},
   "outputs": [],
   "source": [
    "train_loader, valid_loader = get_dataloaders(registered_dir)"
   ]
  },
  {
   "cell_type": "code",
   "execution_count": 34,
   "id": "646b429f-0b91-4a92-9532-5af14c0f0309",
   "metadata": {},
   "outputs": [],
   "source": [
    "batch = next(iter(train_loader))\n",
    "model = DenseNet(spatial_dims=3, in_channels=1, out_channels=512).to(\"cuda\")"
   ]
  },
  {
   "cell_type": "code",
   "execution_count": 77,
   "id": "1fed6c1e-c77d-4e33-86cd-a2a490fc9bc3",
   "metadata": {},
   "outputs": [],
   "source": [
    "def train_distance_model(model, optimizer, loss_fn, dataloader, num_epochs):\n",
    "\n",
    "    for epoch in range(num_epochs):\n",
    "        for iteration, batch in enumerate(dataloader):\n",
    "\n",
    "            bboxes = get_cropped_bboxes(batch[\"image\"], \"RandSpatialCropSamples\")\n",
    "            centers = get_bbox_centers(bboxes)\n",
    "\n",
    "            gt_dist_mat = torch.cdist(\n",
    "                torch.tensor(centers), torch.tensor(centers), p=2.0\n",
    "            ).float()\n",
    "\n",
    "            # Forward pass\n",
    "            image = batch[\"image\"].to(\"cuda\")\n",
    "            embeddings = model(image).cpu()\n",
    "\n",
    "            pred_dist_mat = torch.cdist(embeddings, embeddings, p=2)\n",
    "\n",
    "            loss = loss_fn(pred_dist_mat, gt_dist_mat)\n",
    "\n",
    "            # Backward pass and optimization\n",
    "            optimizer.zero_grad()\n",
    "            loss.backward()\n",
    "            optimizer.step()\n",
    "\n",
    "            # Log\n",
    "            print(f\"Epoch/Iteration {epoch:03}/{iteration:03} Loss, {loss.item():.3f}\")"
   ]
  },
  {
   "cell_type": "code",
   "execution_count": 78,
   "id": "e7b2d9af-9a57-4590-af48-dd4f3e76f69f",
   "metadata": {},
   "outputs": [],
   "source": [
    "# Define the model and optimizer\n",
    "model = DenseNet(spatial_dims=3, in_channels=1, out_channels=512).to(\"cuda\")\n",
    "optimizer = torch.optim.Adam(model.parameters())\n",
    "\n",
    "# Define the loss function\n",
    "loss_fn = nn.MSELoss()\n",
    "\n",
    "# Define the DataLoader\n",
    "registered_dir = data_path / \"registered\"\n",
    "train_loader, valid_loader = get_dataloaders(registered_dir)"
   ]
  },
  {
   "cell_type": "code",
   "execution_count": 79,
   "id": "9c571546-9488-4d84-b82e-77ef9102a1f9",
   "metadata": {},
   "outputs": [
    {
     "name": "stdout",
     "output_type": "stream",
     "text": [
      "Epoch/Iteration 000/000 Loss, 35352.285\n",
      "Epoch/Iteration 000/001 Loss, 6343.036\n",
      "Epoch/Iteration 000/002 Loss, 32113.518\n",
      "Epoch/Iteration 000/003 Loss, 16899.178\n",
      "Epoch/Iteration 000/004 Loss, 24254.955\n",
      "Epoch/Iteration 000/005 Loss, 13105.867\n",
      "Epoch/Iteration 000/006 Loss, 2248.387\n",
      "Epoch/Iteration 000/007 Loss, 17576.955\n",
      "Epoch/Iteration 000/008 Loss, 1191.772\n",
      "Epoch/Iteration 000/009 Loss, 13198.685\n",
      "Epoch/Iteration 000/010 Loss, 800.718\n",
      "Epoch/Iteration 000/011 Loss, 9826.324\n",
      "Epoch/Iteration 000/012 Loss, 12160.454\n",
      "Epoch/Iteration 000/013 Loss, 3000.873\n",
      "Epoch/Iteration 000/014 Loss, 3254.417\n",
      "Epoch/Iteration 000/015 Loss, 5987.673\n",
      "Epoch/Iteration 000/016 Loss, 6317.909\n",
      "Epoch/Iteration 000/017 Loss, 5574.994\n",
      "Epoch/Iteration 000/018 Loss, 8782.736\n",
      "Epoch/Iteration 000/019 Loss, 10295.872\n",
      "Epoch/Iteration 000/020 Loss, 2144.821\n",
      "Epoch/Iteration 000/021 Loss, 2438.458\n",
      "Epoch/Iteration 000/022 Loss, 1574.512\n",
      "Epoch/Iteration 000/023 Loss, 2387.370\n",
      "Epoch/Iteration 000/024 Loss, 2304.122\n",
      "Epoch/Iteration 000/025 Loss, 6197.744\n",
      "Epoch/Iteration 000/026 Loss, 3222.716\n",
      "Epoch/Iteration 000/027 Loss, 3516.363\n",
      "Epoch/Iteration 000/028 Loss, 3460.500\n",
      "Epoch/Iteration 000/029 Loss, 14852.133\n",
      "Epoch/Iteration 000/030 Loss, 15322.438\n",
      "Epoch/Iteration 000/031 Loss, 3286.207\n",
      "Epoch/Iteration 000/032 Loss, 8197.202\n",
      "Epoch/Iteration 000/033 Loss, 8185.547\n",
      "Epoch/Iteration 000/034 Loss, 11492.499\n",
      "Epoch/Iteration 000/035 Loss, 8146.314\n",
      "Epoch/Iteration 000/036 Loss, 2082.856\n",
      "Epoch/Iteration 000/037 Loss, 1244.797\n",
      "Epoch/Iteration 000/038 Loss, 8457.706\n",
      "Epoch/Iteration 000/039 Loss, 2681.537\n",
      "Epoch/Iteration 000/040 Loss, 4429.375\n",
      "Epoch/Iteration 000/041 Loss, 12482.630\n",
      "Epoch/Iteration 000/042 Loss, 8102.532\n",
      "Epoch/Iteration 000/043 Loss, 2937.942\n",
      "Epoch/Iteration 000/044 Loss, 3138.668\n",
      "Epoch/Iteration 000/045 Loss, 4467.677\n",
      "Epoch/Iteration 000/046 Loss, 1829.950\n",
      "Epoch/Iteration 000/047 Loss, 2585.073\n",
      "Epoch/Iteration 000/048 Loss, 12514.850\n",
      "Epoch/Iteration 000/049 Loss, 2584.296\n",
      "Epoch/Iteration 000/050 Loss, 1931.329\n",
      "Epoch/Iteration 000/051 Loss, 1345.827\n",
      "Epoch/Iteration 000/052 Loss, 960.482\n",
      "Epoch/Iteration 000/053 Loss, 10432.479\n",
      "Epoch/Iteration 000/054 Loss, 1455.979\n",
      "Epoch/Iteration 000/055 Loss, 3697.590\n",
      "Epoch/Iteration 000/056 Loss, 14312.755\n",
      "Epoch/Iteration 000/057 Loss, 6259.661\n",
      "Epoch/Iteration 000/058 Loss, 7079.522\n",
      "Epoch/Iteration 000/059 Loss, 1579.212\n",
      "Epoch/Iteration 000/060 Loss, 15619.764\n",
      "Epoch/Iteration 000/061 Loss, 6846.249\n",
      "Epoch/Iteration 000/062 Loss, 2538.031\n",
      "Epoch/Iteration 000/063 Loss, 5451.933\n",
      "Epoch/Iteration 000/064 Loss, 2756.954\n",
      "Epoch/Iteration 000/065 Loss, 8766.617\n",
      "Epoch/Iteration 000/066 Loss, 9839.951\n",
      "Epoch/Iteration 000/067 Loss, 17022.500\n",
      "Epoch/Iteration 000/068 Loss, 5725.464\n",
      "Epoch/Iteration 000/069 Loss, 3847.946\n",
      "Epoch/Iteration 000/070 Loss, 7082.460\n",
      "Epoch/Iteration 000/071 Loss, 4853.795\n",
      "Epoch/Iteration 000/072 Loss, 2094.071\n",
      "Epoch/Iteration 000/073 Loss, 9589.558\n",
      "Epoch/Iteration 000/074 Loss, 2033.888\n",
      "Epoch/Iteration 000/075 Loss, 3994.816\n",
      "Epoch/Iteration 000/076 Loss, 9962.947\n",
      "Epoch/Iteration 000/077 Loss, 7423.191\n",
      "Epoch/Iteration 000/078 Loss, 3169.774\n",
      "Epoch/Iteration 000/079 Loss, 12504.480\n",
      "Epoch/Iteration 000/080 Loss, 1895.024\n",
      "Epoch/Iteration 000/081 Loss, 1794.805\n",
      "Epoch/Iteration 000/082 Loss, 1304.262\n"
     ]
    },
    {
     "name": "stderr",
     "output_type": "stream",
     "text": [
      "\n",
      "KeyboardInterrupt\n",
      "\n"
     ]
    }
   ],
   "source": [
    "# Train the model\n",
    "\n",
    "losses = []\n",
    "\n",
    "train_distance_model(model, optimizer, loss_fn, train_loader, num_epochs=10)"
   ]
  },
  {
   "cell_type": "code",
   "execution_count": null,
   "id": "579504d6-0ac8-49d3-9c3d-a9fecbf98128",
   "metadata": {},
   "outputs": [],
   "source": []
  }
 ],
 "metadata": {
  "kernelspec": {
   "display_name": "Python [conda env:brain]",
   "language": "python",
   "name": "conda-env-brain-py"
  },
  "language_info": {
   "codemirror_mode": {
    "name": "ipython",
    "version": 3
   },
   "file_extension": ".py",
   "mimetype": "text/x-python",
   "name": "python",
   "nbconvert_exporter": "python",
   "pygments_lexer": "ipython3",
   "version": "3.8.12"
  }
 },
 "nbformat": 4,
 "nbformat_minor": 5
}
